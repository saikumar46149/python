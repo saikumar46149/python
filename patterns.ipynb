{
 "cells": [
  {
   "cell_type": "code",
   "execution_count": 6,
   "id": "636147a2",
   "metadata": {},
   "outputs": [
    {
     "name": "stdout",
     "output_type": "stream",
     "text": [
      "1\n",
      "12\n",
      "123\n",
      "1234\n",
      "12345\n"
     ]
    }
   ],
   "source": [
    "for i in range(1,6) :\n",
    "    for j in range(1,i+1) :\n",
    "        print(j,end=\"\")\n",
    "        \n",
    "    print()"
   ]
  },
  {
   "cell_type": "code",
   "execution_count": 9,
   "id": "0a642fb5",
   "metadata": {},
   "outputs": [
    {
     "name": "stdout",
     "output_type": "stream",
     "text": [
      "1 \n",
      "2 2 \n",
      "3 3 3 \n",
      "4 4 4 4 \n",
      "5 5 5 5 5 \n"
     ]
    }
   ],
   "source": [
    "for i in range(1,6) :\n",
    "    b = i * (str(i) + \" \")\n",
    "    print(b)"
   ]
  },
  {
   "cell_type": "code",
   "execution_count": 18,
   "id": "86654bbd",
   "metadata": {},
   "outputs": [
    {
     "name": "stdout",
     "output_type": "stream",
     "text": [
      "11111\n",
      "2222\n",
      "333\n",
      "44\n",
      "5\n"
     ]
    }
   ],
   "source": [
    "a = 5\n",
    "for i in range(1,6) :\n",
    "    b = str(i) * a\n",
    "    a = a-1\n",
    "    print(b)\n",
    "    "
   ]
  },
  {
   "cell_type": "code",
   "execution_count": 21,
   "id": "43e9b059",
   "metadata": {},
   "outputs": [
    {
     "name": "stdout",
     "output_type": "stream",
     "text": [
      "55555\n",
      "5555\n",
      "555\n",
      "55\n",
      "5\n"
     ]
    }
   ],
   "source": [
    "a = 5\n",
    "for i in range(1,6) :\n",
    "    b = \"5\" * a\n",
    "    a = a-1\n",
    "    print(b)\n",
    "    "
   ]
  },
  {
   "cell_type": "code",
   "execution_count": 27,
   "id": "1f4cf019",
   "metadata": {},
   "outputs": [
    {
     "name": "stdout",
     "output_type": "stream",
     "text": [
      "012345\n",
      "01234\n",
      "0123\n",
      "012\n",
      "01\n"
     ]
    }
   ],
   "source": [
    "for i in range(5,0,-1) :\n",
    "    a = \"\"\n",
    "    for j in range(0,i+1) :\n",
    "        a += str(j)\n",
    "        \n",
    "    print(a)"
   ]
  },
  {
   "cell_type": "code",
   "execution_count": 63,
   "id": "2e8b389e",
   "metadata": {},
   "outputs": [
    {
     "name": "stdout",
     "output_type": "stream",
     "text": [
      "1\n",
      "33\n",
      "555\n",
      "7777\n",
      "99999\n"
     ]
    }
   ],
   "source": [
    "a= \"\"\n",
    "b = 1\n",
    "for i in range(1,10) :\n",
    "    if (i%2)!=0 :\n",
    "        a = str(i) * b\n",
    "        b += 1\n",
    "        print(a)"
   ]
  },
  {
   "cell_type": "code",
   "execution_count": 66,
   "id": "f062ef15",
   "metadata": {},
   "outputs": [
    {
     "name": "stdout",
     "output_type": "stream",
     "text": [
      "55555\n",
      "4444\n",
      "333\n",
      "22\n",
      "1\n"
     ]
    }
   ],
   "source": [
    "b = 5\n",
    "for i in range(5,0,-1) :\n",
    "    a = str(i) * b\n",
    "    b = b-1\n",
    "    print(a)"
   ]
  },
  {
   "cell_type": "code",
   "execution_count": 69,
   "id": "9a2c44e6",
   "metadata": {},
   "outputs": [
    {
     "name": "stdout",
     "output_type": "stream",
     "text": [
      "1\n",
      "21\n",
      "321\n",
      "4321\n",
      "54321\n"
     ]
    }
   ],
   "source": [
    "for i in range(1,6) :\n",
    "    a = \"\"\n",
    "    for j in range(i,0,-1) :\n",
    "        a += str(j)\n",
    "    print(a)"
   ]
  },
  {
   "cell_type": "code",
   "execution_count": 74,
   "id": "33cfbae5",
   "metadata": {},
   "outputs": [
    {
     "name": "stdout",
     "output_type": "stream",
     "text": [
      "54321\n",
      "4321\n",
      "321\n",
      "21\n",
      "1\n"
     ]
    }
   ],
   "source": [
    "for i in range(5,0,-1) :\n",
    "    a = \"\"\n",
    "    for j in range(i,0,-1) :\n",
    "        a += str(j)\n",
    "    print(a)"
   ]
  },
  {
   "cell_type": "code",
   "execution_count": 4,
   "id": "5e1aef9b",
   "metadata": {},
   "outputs": [
    {
     "name": "stdout",
     "output_type": "stream",
     "text": [
      "1 \n",
      "3 2 \n",
      "6 5 4 \n",
      "10 9 8 7 \n"
     ]
    }
   ],
   "source": [
    "a = 0\n",
    "for i in range(0,4) :\n",
    "    s = \"\"\n",
    "    for j in range(i+1) :\n",
    "        a += 1\n",
    "        s = str(a) + \" \" + s\n",
    "    print(s)"
   ]
  },
  {
   "cell_type": "code",
   "execution_count": 1,
   "id": "33f779eb",
   "metadata": {},
   "outputs": [
    {
     "name": "stdout",
     "output_type": "stream",
     "text": [
      "    *\n",
      "   * * \n",
      "  *   * \n",
      " *     * \n",
      "*       * \n",
      " *     * \n",
      "  *   * \n",
      "   * * \n",
      "    *\n"
     ]
    }
   ],
   "source": [
    "b = 3\n",
    "c = 0\n",
    "print(\" \" * (4) + \"*\")\n",
    "for i in range(1,5) :\n",
    "    left_spaces = \" \" * (b)\n",
    "    middle_spaces = \" \" * (c)\n",
    "    x = left_spaces + \"* \" + middle_spaces + \"* \"\n",
    "    b = b - 1\n",
    "    c += 2\n",
    "    print(x)\n",
    "\n",
    "n = 4\n",
    "for i in range(1,4) :\n",
    "    left_spaces = \" \" * i\n",
    "    middle_spaces = \" \" * n\n",
    "    z = left_spaces + \"* \" + middle_spaces + \"* \"\n",
    "    n = n - 2\n",
    "    print(z)\n",
    "    \n",
    "print(\" \" * (4) + \"*\")"
   ]
  },
  {
   "cell_type": "code",
   "execution_count": 2,
   "id": "b3edb3f5",
   "metadata": {},
   "outputs": [
    {
     "name": "stdout",
     "output_type": "stream",
     "text": [
      "* * * * * * \n",
      " * * * * * \n",
      "  * * * * \n",
      "   * * * \n",
      "    * * \n",
      "     * \n"
     ]
    }
   ],
   "source": [
    "b = \"\"\n",
    "c = 6\n",
    "\n",
    "for i in range(0,6) :\n",
    "    spaces = \" \"*i\n",
    "    b = (spaces + (\"* \" *c))\n",
    "    c = c - 1\n",
    "    print(b)"
   ]
  },
  {
   "cell_type": "code",
   "execution_count": 1,
   "id": "8f21fd5b",
   "metadata": {},
   "outputs": [
    {
     "name": "stdout",
     "output_type": "stream",
     "text": [
      "* \n",
      "* * \n",
      "* * * \n",
      "* * * * \n",
      "* * * * * \n"
     ]
    }
   ],
   "source": [
    "for i in range(1,6) :\n",
    "    print(\"* \" * i)"
   ]
  },
  {
   "cell_type": "code",
   "execution_count": 3,
   "id": "66025f41",
   "metadata": {},
   "outputs": [
    {
     "name": "stdout",
     "output_type": "stream",
     "text": [
      "        * \n",
      "      * * \n",
      "    * * * \n",
      "  * * * * \n",
      "* * * * * \n"
     ]
    }
   ],
   "source": [
    "x = 8\n",
    "for i in range(1,6) :\n",
    "    y = \" \" * x\n",
    "    stars = \"* \" * i\n",
    "    print(y + stars)\n",
    "    x = x - 2"
   ]
  },
  {
   "cell_type": "code",
   "execution_count": 5,
   "id": "e2771c27",
   "metadata": {},
   "outputs": [
    {
     "name": "stdout",
     "output_type": "stream",
     "text": [
      "* * * * * \n",
      "* * * * \n",
      "* * * \n",
      "* * \n",
      "* \n"
     ]
    }
   ],
   "source": [
    "for i in range(5,0,-1) :\n",
    "    print(\"* \" * i)"
   ]
  },
  {
   "cell_type": "code",
   "execution_count": 6,
   "id": "46b7400c",
   "metadata": {},
   "outputs": [
    {
     "name": "stdout",
     "output_type": "stream",
     "text": [
      "* * * * * \n",
      "  * * * * \n",
      "    * * * \n",
      "      * * \n",
      "        * \n"
     ]
    }
   ],
   "source": [
    "x = 0\n",
    "for i in range(5,0,-1) :\n",
    "    y = \" \" * x\n",
    "    stars = \"* \" * i\n",
    "    print(y + stars)\n",
    "    x = x + 2"
   ]
  },
  {
   "cell_type": "code",
   "execution_count": 7,
   "id": "0af27c4b",
   "metadata": {},
   "outputs": [
    {
     "name": "stdout",
     "output_type": "stream",
     "text": [
      "      * \n",
      "     * * \n",
      "    * * * \n",
      "   * * * * \n",
      "  * * * * * \n",
      " * * * * * * \n",
      "* * * * * * * \n"
     ]
    }
   ],
   "source": [
    "x = 6\n",
    "for i in range(1,8) :\n",
    "    y = \" \" * x\n",
    "    stars = \"* \" *i\n",
    "    print(y + stars)\n",
    "    x= x - 1"
   ]
  },
  {
   "cell_type": "code",
   "execution_count": 11,
   "id": "436026b7",
   "metadata": {},
   "outputs": [
    {
     "name": "stdout",
     "output_type": "stream",
     "text": [
      "* \n",
      "* * \n",
      "* * * \n",
      "* * * * \n",
      "* * * * * \n",
      "     \n",
      "* * * * * \n",
      "* * * * \n",
      "* * * \n",
      "* * \n",
      "* \n"
     ]
    }
   ],
   "source": [
    "for i in range(1,6) :\n",
    "    print(\"* \" * i)\n",
    "for i in range(1,2) :\n",
    "    print(\" \" * 5)\n",
    "for i in range(5,0,-1) :\n",
    "    print(\"* \" * i)"
   ]
  },
  {
   "cell_type": "code",
   "execution_count": 14,
   "id": "1ef46d5b",
   "metadata": {},
   "outputs": [
    {
     "name": "stdout",
     "output_type": "stream",
     "text": [
      "* \n",
      "* * \n",
      "* * * \n",
      "* * * * \n",
      "* * * * * \n",
      "* * * * \n",
      "* * * \n",
      "* * \n",
      "* \n"
     ]
    }
   ],
   "source": [
    "for i in range(1,6) :\n",
    "    print(\"* \" * i)\n",
    "\n",
    "for i in range(4,0,-1) :\n",
    "    print(\"* \" * i)"
   ]
  },
  {
   "cell_type": "code",
   "execution_count": 16,
   "id": "1c54580f",
   "metadata": {},
   "outputs": [
    {
     "name": "stdout",
     "output_type": "stream",
     "text": [
      "        * \n",
      "      * * \n",
      "    * * * \n",
      "  * * * * \n",
      "* * * * * \n",
      "  * * * * \n",
      "    * * * \n",
      "      * * \n",
      "        * \n"
     ]
    }
   ],
   "source": [
    "x = 8\n",
    "for i in range(1,6) :\n",
    "    y = \" \" * x\n",
    "    stars = \"* \" * i\n",
    "    print(y + stars)\n",
    "    x = x - 2\n",
    "    \n",
    "x = 2\n",
    "for i in range(4,0,-1) :\n",
    "    y = \" \" * x\n",
    "    stars = \"* \" * i\n",
    "    print(y + stars)\n",
    "    x = x + 2"
   ]
  },
  {
   "cell_type": "code",
   "execution_count": 20,
   "id": "8ab3dc7d",
   "metadata": {},
   "outputs": [
    {
     "name": "stdout",
     "output_type": "stream",
     "text": [
      "* * * * * * \n",
      " * * * * * \n",
      "  * * * * \n",
      "   * * * \n",
      "    * * \n",
      "     * \n",
      "     * \n",
      "    * * \n",
      "   * * * \n",
      "  * * * * \n",
      " * * * * * \n",
      "* * * * * * \n"
     ]
    }
   ],
   "source": [
    "b = \"\"\n",
    "c = 6\n",
    "\n",
    "for i in range(0,6) :\n",
    "    spaces = \" \"*i\n",
    "    b = (spaces + (\"* \" *c))\n",
    "    c = c - 1\n",
    "    print(b)\n",
    "    \n",
    "x = 5\n",
    "for i in range(1,7) :\n",
    "    y = \" \" * x\n",
    "    stars = \"* \" *i\n",
    "    print(y + stars)\n",
    "    x= x - 1"
   ]
  },
  {
   "cell_type": "code",
   "execution_count": null,
   "id": "46114325",
   "metadata": {},
   "outputs": [],
   "source": []
  }
 ],
 "metadata": {
  "kernelspec": {
   "display_name": "Python 3 (ipykernel)",
   "language": "python",
   "name": "python3"
  },
  "language_info": {
   "codemirror_mode": {
    "name": "ipython",
    "version": 3
   },
   "file_extension": ".py",
   "mimetype": "text/x-python",
   "name": "python",
   "nbconvert_exporter": "python",
   "pygments_lexer": "ipython3",
   "version": "3.9.13"
  }
 },
 "nbformat": 4,
 "nbformat_minor": 5
}
